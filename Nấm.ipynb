{
 "cells": [
  {
   "cell_type": "code",
   "execution_count": null,
   "id": "8c787352",
   "metadata": {
    "vscode": {
     "languageId": "plaintext"
    }
   },
   "outputs": [],
   "source": [
    "import pandas as pd\n",
    "import matplotlib.pyplot as plt\n",
    "from google.colab import drive\n",
    "import os\n",
    "\n",
    "# 1) Mount Google Drive\n",
    "drive.mount('/content/drive')\n",
    "\n",
    "# 2) Đường dẫn file CSV\n",
    "file_path = \"/content/drive/MyDrive/Nhập môn học máy/imdb_top_1000.csv\"\n",
    "\n",
    "# 3) Kiểm tra file có tồn tại không\n",
    "if not os.path.exists(file_path):\n",
    "    raise FileNotFoundError(f\"❌ Không tìm thấy file tại: {file_path}\")\n",
    "\n",
    "# 4) Đọc file CSV\n",
    "df = pd.read_csv(file_path, encoding=\"utf-8\")\n",
    "print(\"✅ Đọc dữ liệu thành công!\")\n",
    "print(\"📌 Các cột trong file:\", list(df.columns))\n",
    "\n",
    "# 5) Xử lý dữ liệu cơ bản\n",
    "# Chuyển Rating thành số\n",
    "if \"IMDB_Rating\" in df.columns:\n",
    "    df[\"IMDB_Rating\"] = pd.to_numeric(df[\"IMDB_Rating\"], errors=\"coerce\")\n",
    "\n",
    "# Chuyển Gross (doanh thu) về số\n",
    "if \"Gross\" in df.columns:\n",
    "    df[\"Gross\"] = df[\"Gross\"].astype(str).str.replace(\",\", \"\").str.strip()\n",
    "    df[\"Gross\"] = pd.to_numeric(df[\"Gross\"], errors=\"coerce\")\n",
    "\n",
    "# 6) Biểu đồ Top 10 phim có điểm IMDB cao nhất\n",
    "top_rating = df.nlargest(10, \"IMDB_Rating\")[[\"Series_Title\", \"IMDB_Rating\"]]\n",
    "\n",
    "plt.figure(figsize=(10, 6))\n",
    "plt.barh(top_rating[\"Series_Title\"], top_rating[\"IMDB_Rating\"], color=\"skyblue\")\n",
    "plt.xlabel(\"Điểm IMDB\")\n",
    "plt.ylabel(\"Tên phim\")\n",
    "plt.title(\"Top 10 phim có điểm IMDB cao nhất\")\n",
    "plt.gca().invert_yaxis()\n",
    "plt.show()\n",
    "\n",
    "# 7) Biểu đồ Top 10 phim có doanh thu cao nhất (Gross)\n",
    "if \"Gross\" in df.columns:\n",
    "    top_gross = df.nlargest(10, \"Gross\")[[\"Series_Title\", \"Gross\"]]\n",
    "\n",
    "    plt.figure(figsize=(10, 6))\n",
    "    plt.barh(top_gross[\"Series_Title\"], top_gross[\"Gross\"], color=\"orange\")\n",
    "    plt.xlabel(\"Doanh thu (Gross)\")\n",
    "    plt.ylabel(\"Tên phim\")\n",
    "    plt.title(\"Top 10 phim có doanh thu cao nhất\")\n",
    "    plt.gca().invert_yaxis()\n",
    "    plt.show()\n",
    "\n",
    "# 8) Biểu đồ phân bố thể loại phim (Genre)\n",
    "if \"Genre\" in df.columns:\n",
    "    genres = df[\"Genre\"].str.split(\",\").explode().str.strip()\n",
    "    top_genres = genres.value_counts().head(10)\n",
    "\n",
    "    plt.figure(figsize=(10, 6))\n",
    "    top_genres.plot(kind=\"bar\", color=\"green\")\n",
    "    plt.title(\"Top 10 thể loại phim phổ biến nhất\")\n",
    "    plt.xlabel(\"Thể loại\")\n",
    "    plt.ylabel(\"Số lượng phim\")\n",
    "    plt.show()\n"
   ]
  }
 ],
 "metadata": {
  "language_info": {
   "name": "python"
  }
 },
 "nbformat": 4,
 "nbformat_minor": 5
}
